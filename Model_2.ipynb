{
  "cells": [
    {
      "cell_type": "code",
      "execution_count": null,
      "metadata": {
        "id": "CxcP_mGtAvt6"
      },
      "outputs": [],
      "source": [
        "! pip install -q kaggle"
      ]
    },
    {
      "cell_type": "code",
      "execution_count": null,
      "metadata": {
        "colab": {
          "base_uri": "https://localhost:8080/"
        },
        "id": "tYjhb_KHBR03",
        "outputId": "c74368bd-e61b-4c3f-fe25-70ffd3db0755"
      },
      "outputs": [
        {
          "output_type": "stream",
          "name": "stdout",
          "text": [
            "mkdir: cannot create directory ‘/root/kaggle’: File exists\n"
          ]
        }
      ],
      "source": [
        "!mkdir ~/kaggle"
      ]
    },
    {
      "cell_type": "code",
      "execution_count": null,
      "metadata": {
        "id": "r2APxThjBTCQ"
      },
      "outputs": [],
      "source": [
        "! cp kaggle.json ~/.kaggle/"
      ]
    },
    {
      "cell_type": "code",
      "execution_count": null,
      "metadata": {
        "id": "tAwLz_KPDmdq"
      },
      "outputs": [],
      "source": [
        "! chmod 600 ~/.kaggle/kaggle.json"
      ]
    },
    {
      "cell_type": "code",
      "execution_count": null,
      "metadata": {
        "colab": {
          "base_uri": "https://localhost:8080/"
        },
        "id": "oFjctYSFEySn",
        "outputId": "8d8c1a34-a5f0-4a7c-b7e6-f2287ea4a805"
      },
      "outputs": [
        {
          "output_type": "stream",
          "name": "stdout",
          "text": [
            "rm: cannot remove '/content/Real Life Violence Dataset': No such file or directory\n",
            "rm: cannot remove '/content/real life violence situations': No such file or directory\n",
            "rm: cannot remove '/content/data': No such file or directory\n"
          ]
        }
      ],
      "source": [
        "!rm -r \"/content/test\"\n",
        "!rm -r \"/content/train\"\n",
        "!rm -r \"/content/valid\"\n",
        "!rm -r \"/content/Real Life Violence Dataset\"\n",
        "!rm -r \"/content/real life violence situations\"\n",
        "!rm -r \"/content/data\"\n",
        "!mkdir train\n",
        "!mkdir test\n",
        "!mkdir valid\n"
      ]
    },
    {
      "cell_type": "code",
      "execution_count": null,
      "metadata": {
        "colab": {
          "base_uri": "https://localhost:8080/"
        },
        "id": "gdfhPn7kDmXJ",
        "outputId": "9d6cee71-8ec2-4b49-aca1-e31b9e26a6e6"
      },
      "outputs": [
        {
          "output_type": "stream",
          "name": "stdout",
          "text": [
            "Downloading real-life-violence-situations-dataset.zip to /content\n",
            "100% 3.57G/3.58G [00:27<00:00, 157MB/s]\n",
            "100% 3.58G/3.58G [00:27<00:00, 140MB/s]\n"
          ]
        }
      ],
      "source": [
        "!kaggle datasets download mohamedmustafa/real-life-violence-situations-dataset -p /content/ --unzip"
      ]
    },
    {
      "cell_type": "code",
      "execution_count": null,
      "metadata": {
        "colab": {
          "base_uri": "https://localhost:8080/"
        },
        "id": "rMt5RmE7Dobj",
        "outputId": "ea8a7ecd-356a-4919-bfee-18dc71f59019"
      },
      "outputs": [
        {
          "output_type": "stream",
          "name": "stdout",
          "text": [
            "Drive already mounted at /content/drive; to attempt to forcibly remount, call drive.mount(\"/content/drive\", force_remount=True).\n"
          ]
        }
      ],
      "source": [
        "from google.colab import drive\n",
        "drive.mount('/content/drive')\n",
        "#drive.mount(\"/content/drive\", force_remount=True)"
      ]
    },
    {
      "cell_type": "code",
      "execution_count": null,
      "metadata": {
        "id": "m090uKZ2DmT_"
      },
      "outputs": [],
      "source": [
        "import os\n",
        "non_violent=os.listdir(\"/content/Real Life Violence Dataset/NonViolence\")\n",
        "violent=os.listdir(\"/content/Real Life Violence Dataset/Violence\")\n"
      ]
    },
    {
      "cell_type": "code",
      "execution_count": null,
      "metadata": {
        "id": "JiGuBNOAEt_4"
      },
      "outputs": [],
      "source": [
        "#for vid in os.listdir(\"/content/drive/MyDrive/Capstone Resources/data/vidsWithObstructions\"):\n",
        "#  violent.remove(vid)"
      ]
    },
    {
      "cell_type": "code",
      "execution_count": null,
      "metadata": {
        "id": "SLZROgpLDmNX"
      },
      "outputs": [],
      "source": [
        "import random\n",
        "def split_test_train(lis):\n",
        "  n=len(lis)\n",
        "  other=random.sample(range(n),int(n/10))\n",
        "  return ([x for i,x in enumerate(lis) if not i in other],[x for i,x in enumerate(lis) if i in other])\n",
        "\n",
        "def split_train_valid(lis):\n",
        "  n=len(lis)\n",
        "  other=random.sample(range(n),int(n/9))\n",
        "  return ([x for i,x in enumerate(lis) if not i in other],[x for i,x in enumerate(lis) if i in other])\n",
        "\n",
        "train_non_violent,test_non_violent=split_test_train(non_violent)\n",
        "train_violent,test_violent=split_test_train(violent)\n",
        "\n",
        "train_non_violent,valid_non_violent=split_train_valid(train_non_violent)\n",
        "train_violent,valid_violent=split_train_valid(train_violent)"
      ]
    },
    {
      "cell_type": "code",
      "execution_count": null,
      "metadata": {
        "id": "bQ6GDweuDl-g"
      },
      "outputs": [],
      "source": [
        "import shutil\n",
        "src_path=\"/content/Real Life Violence Dataset/NonViolence/\"\n",
        "for filename in train_non_violent:\n",
        "  shutil.move(os.path.join(src_path,filename), \"/content/train\")\n",
        "for filename in test_non_violent:\n",
        "  shutil.move(os.path.join(src_path,filename), \"/content/test\")\n",
        "for filename in valid_non_violent:\n",
        "  shutil.move(os.path.join(src_path,filename), \"/content/valid\")\n",
        "\n",
        "\n",
        "src_path=\"/content/Real Life Violence Dataset/Violence/\"\n",
        "for filename in train_violent:\n",
        "  shutil.move(os.path.join(src_path,filename), \"/content/train\")\n",
        "for filename in test_violent:\n",
        "  shutil.move(os.path.join(src_path,filename), \"/content/test\")\n",
        "for filename in valid_violent:\n",
        "  shutil.move(os.path.join(src_path,filename), \"/content/valid\")"
      ]
    },
    {
      "cell_type": "code",
      "execution_count": null,
      "metadata": {
        "id": "GJexFfG7WDmb"
      },
      "outputs": [],
      "source": [
        "import pandas as pd\n",
        "train=[]\n",
        "test=[]\n",
        "valid=[]\n",
        "for filename in train_non_violent:\n",
        "  train.append([filename,\"Non Violent\"])\n",
        "for filename in train_violent:\n",
        "  train.append([filename,\"Violent\"])\n",
        "for filename in test_non_violent:\n",
        "  test.append([filename,\"Non Violent\"])\n",
        "for filename in test_violent:\n",
        "  test.append([filename,\"Violent\"])\n",
        "for filename in valid_non_violent:\n",
        "  valid.append([filename,\"Non Violent\"])\n",
        "for filename in valid_violent:\n",
        "  valid.append([filename,\"Violent\"])\n",
        "\n",
        "train_df = pd.DataFrame(train, columns =[\"video_name\",\"tag\"])\n",
        "test_df = pd.DataFrame(test, columns =[\"video_name\",\"tag\"])\n",
        "valid_df=pd.DataFrame(valid, columns =[\"video_name\",\"tag\"])"
      ]
    },
    {
      "cell_type": "code",
      "execution_count": null,
      "metadata": {
        "id": "-KACEqXbYlUD"
      },
      "outputs": [],
      "source": [
        "train_df=train_df.sample(frac = 1)\n",
        "test_df=test_df.sample(frac = 1)\n",
        "valid_df=valid_df.sample(frac = 1)"
      ]
    },
    {
      "cell_type": "code",
      "execution_count": null,
      "metadata": {
        "id": "qmDEJFrDBMv5",
        "colab": {
          "base_uri": "https://localhost:8080/",
          "height": 424
        },
        "outputId": "8ac3f018-9350-44b5-998a-7776ad64a348"
      },
      "outputs": [
        {
          "output_type": "execute_result",
          "data": {
            "text/plain": [
              "      video_name          tag\n",
              "1365    V_80.mp4      Violent\n",
              "1222   V_612.mp4      Violent\n",
              "1170   V_317.mp4      Violent\n",
              "285   NV_565.mp4  Non Violent\n",
              "103   NV_100.mp4  Non Violent\n",
              "...          ...          ...\n",
              "477   NV_981.mp4  Non Violent\n",
              "433   NV_389.mp4  Non Violent\n",
              "1077   V_338.mp4      Violent\n",
              "793   NV_267.mp4  Non Violent\n",
              "1424   V_423.mp4      Violent\n",
              "\n",
              "[1600 rows x 2 columns]"
            ],
            "text/html": [
              "\n",
              "  <div id=\"df-f75b0d4c-e5a1-4fbf-8553-6a04b4d0c8e5\">\n",
              "    <div class=\"colab-df-container\">\n",
              "      <div>\n",
              "<style scoped>\n",
              "    .dataframe tbody tr th:only-of-type {\n",
              "        vertical-align: middle;\n",
              "    }\n",
              "\n",
              "    .dataframe tbody tr th {\n",
              "        vertical-align: top;\n",
              "    }\n",
              "\n",
              "    .dataframe thead th {\n",
              "        text-align: right;\n",
              "    }\n",
              "</style>\n",
              "<table border=\"1\" class=\"dataframe\">\n",
              "  <thead>\n",
              "    <tr style=\"text-align: right;\">\n",
              "      <th></th>\n",
              "      <th>video_name</th>\n",
              "      <th>tag</th>\n",
              "    </tr>\n",
              "  </thead>\n",
              "  <tbody>\n",
              "    <tr>\n",
              "      <th>1365</th>\n",
              "      <td>V_80.mp4</td>\n",
              "      <td>Violent</td>\n",
              "    </tr>\n",
              "    <tr>\n",
              "      <th>1222</th>\n",
              "      <td>V_612.mp4</td>\n",
              "      <td>Violent</td>\n",
              "    </tr>\n",
              "    <tr>\n",
              "      <th>1170</th>\n",
              "      <td>V_317.mp4</td>\n",
              "      <td>Violent</td>\n",
              "    </tr>\n",
              "    <tr>\n",
              "      <th>285</th>\n",
              "      <td>NV_565.mp4</td>\n",
              "      <td>Non Violent</td>\n",
              "    </tr>\n",
              "    <tr>\n",
              "      <th>103</th>\n",
              "      <td>NV_100.mp4</td>\n",
              "      <td>Non Violent</td>\n",
              "    </tr>\n",
              "    <tr>\n",
              "      <th>...</th>\n",
              "      <td>...</td>\n",
              "      <td>...</td>\n",
              "    </tr>\n",
              "    <tr>\n",
              "      <th>477</th>\n",
              "      <td>NV_981.mp4</td>\n",
              "      <td>Non Violent</td>\n",
              "    </tr>\n",
              "    <tr>\n",
              "      <th>433</th>\n",
              "      <td>NV_389.mp4</td>\n",
              "      <td>Non Violent</td>\n",
              "    </tr>\n",
              "    <tr>\n",
              "      <th>1077</th>\n",
              "      <td>V_338.mp4</td>\n",
              "      <td>Violent</td>\n",
              "    </tr>\n",
              "    <tr>\n",
              "      <th>793</th>\n",
              "      <td>NV_267.mp4</td>\n",
              "      <td>Non Violent</td>\n",
              "    </tr>\n",
              "    <tr>\n",
              "      <th>1424</th>\n",
              "      <td>V_423.mp4</td>\n",
              "      <td>Violent</td>\n",
              "    </tr>\n",
              "  </tbody>\n",
              "</table>\n",
              "<p>1600 rows × 2 columns</p>\n",
              "</div>\n",
              "      <button class=\"colab-df-convert\" onclick=\"convertToInteractive('df-f75b0d4c-e5a1-4fbf-8553-6a04b4d0c8e5')\"\n",
              "              title=\"Convert this dataframe to an interactive table.\"\n",
              "              style=\"display:none;\">\n",
              "        \n",
              "  <svg xmlns=\"http://www.w3.org/2000/svg\" height=\"24px\"viewBox=\"0 0 24 24\"\n",
              "       width=\"24px\">\n",
              "    <path d=\"M0 0h24v24H0V0z\" fill=\"none\"/>\n",
              "    <path d=\"M18.56 5.44l.94 2.06.94-2.06 2.06-.94-2.06-.94-.94-2.06-.94 2.06-2.06.94zm-11 1L8.5 8.5l.94-2.06 2.06-.94-2.06-.94L8.5 2.5l-.94 2.06-2.06.94zm10 10l.94 2.06.94-2.06 2.06-.94-2.06-.94-.94-2.06-.94 2.06-2.06.94z\"/><path d=\"M17.41 7.96l-1.37-1.37c-.4-.4-.92-.59-1.43-.59-.52 0-1.04.2-1.43.59L10.3 9.45l-7.72 7.72c-.78.78-.78 2.05 0 2.83L4 21.41c.39.39.9.59 1.41.59.51 0 1.02-.2 1.41-.59l7.78-7.78 2.81-2.81c.8-.78.8-2.07 0-2.86zM5.41 20L4 18.59l7.72-7.72 1.47 1.35L5.41 20z\"/>\n",
              "  </svg>\n",
              "      </button>\n",
              "      \n",
              "  <style>\n",
              "    .colab-df-container {\n",
              "      display:flex;\n",
              "      flex-wrap:wrap;\n",
              "      gap: 12px;\n",
              "    }\n",
              "\n",
              "    .colab-df-convert {\n",
              "      background-color: #E8F0FE;\n",
              "      border: none;\n",
              "      border-radius: 50%;\n",
              "      cursor: pointer;\n",
              "      display: none;\n",
              "      fill: #1967D2;\n",
              "      height: 32px;\n",
              "      padding: 0 0 0 0;\n",
              "      width: 32px;\n",
              "    }\n",
              "\n",
              "    .colab-df-convert:hover {\n",
              "      background-color: #E2EBFA;\n",
              "      box-shadow: 0px 1px 2px rgba(60, 64, 67, 0.3), 0px 1px 3px 1px rgba(60, 64, 67, 0.15);\n",
              "      fill: #174EA6;\n",
              "    }\n",
              "\n",
              "    [theme=dark] .colab-df-convert {\n",
              "      background-color: #3B4455;\n",
              "      fill: #D2E3FC;\n",
              "    }\n",
              "\n",
              "    [theme=dark] .colab-df-convert:hover {\n",
              "      background-color: #434B5C;\n",
              "      box-shadow: 0px 1px 3px 1px rgba(0, 0, 0, 0.15);\n",
              "      filter: drop-shadow(0px 1px 2px rgba(0, 0, 0, 0.3));\n",
              "      fill: #FFFFFF;\n",
              "    }\n",
              "  </style>\n",
              "\n",
              "      <script>\n",
              "        const buttonEl =\n",
              "          document.querySelector('#df-f75b0d4c-e5a1-4fbf-8553-6a04b4d0c8e5 button.colab-df-convert');\n",
              "        buttonEl.style.display =\n",
              "          google.colab.kernel.accessAllowed ? 'block' : 'none';\n",
              "\n",
              "        async function convertToInteractive(key) {\n",
              "          const element = document.querySelector('#df-f75b0d4c-e5a1-4fbf-8553-6a04b4d0c8e5');\n",
              "          const dataTable =\n",
              "            await google.colab.kernel.invokeFunction('convertToInteractive',\n",
              "                                                     [key], {});\n",
              "          if (!dataTable) return;\n",
              "\n",
              "          const docLinkHtml = 'Like what you see? Visit the ' +\n",
              "            '<a target=\"_blank\" href=https://colab.research.google.com/notebooks/data_table.ipynb>data table notebook</a>'\n",
              "            + ' to learn more about interactive tables.';\n",
              "          element.innerHTML = '';\n",
              "          dataTable['output_type'] = 'display_data';\n",
              "          await google.colab.output.renderOutput(dataTable, element);\n",
              "          const docLink = document.createElement('div');\n",
              "          docLink.innerHTML = docLinkHtml;\n",
              "          element.appendChild(docLink);\n",
              "        }\n",
              "      </script>\n",
              "    </div>\n",
              "  </div>\n",
              "  "
            ]
          },
          "metadata": {},
          "execution_count": 22
        }
      ],
      "source": [
        "train_df"
      ]
    },
    {
      "cell_type": "code",
      "execution_count": null,
      "metadata": {
        "id": "HeM-Z98UDRvH"
      },
      "outputs": [],
      "source": [
        "from tensorflow.keras import layers\n",
        "from tensorflow import keras\n",
        "import matplotlib.pyplot as plt\n",
        "import tensorflow as tf\n",
        "import pandas as pd\n",
        "import numpy as np\n",
        "import imageio\n",
        "import cv2\n",
        "import os"
      ]
    },
    {
      "cell_type": "code",
      "execution_count": null,
      "metadata": {
        "id": "MoA2IConERpL"
      },
      "outputs": [],
      "source": [
        "MAX_SEQ_LENGTH = 30\n",
        "IMG_SIZE = 90"
      ]
    },
    {
      "cell_type": "code",
      "execution_count": null,
      "metadata": {
        "id": "V00H-wy0ihaF",
        "colab": {
          "base_uri": "https://localhost:8080/"
        },
        "outputId": "725ca261-913f-40ec-e28d-62f1ab6473e9"
      },
      "outputs": [
        {
          "output_type": "stream",
          "name": "stdout",
          "text": [
            "Total videos for training: 1600\n",
            "Total videos for testing: 200\n",
            "Total videos for validating: 200\n",
            "['Non Violent', 'Violent']\n"
          ]
        }
      ],
      "source": [
        "print(f\"Total videos for training: {len(train_df)}\")\n",
        "print(f\"Total videos for testing: {len(test_df)}\")\n",
        "print(f\"Total videos for validating: {len(valid_df)}\")\n",
        "\n",
        "# resizing image instead of cropping\n",
        "#center_crop_layer = layers.Resizing(IMG_SIZE,IMG_SIZE,crop_to_aspect_ratio=True) \n",
        "center_crop_layer = layers.CenterCrop(IMG_SIZE,IMG_SIZE)\n",
        "\n",
        "\n",
        "def crop_center(frame):\n",
        "    cropped = center_crop_layer(frame[None, ...])\n",
        "    cropped = cropped.numpy().squeeze()\n",
        "    return cropped\n",
        "\n",
        "def load_video(path, max_frames):\n",
        "    frames_to_take_per_sec=5\n",
        "    cap = cv2.VideoCapture(path)\n",
        "    length = int(cap.get(cv2.CAP_PROP_FRAME_COUNT))\n",
        "    frames = []\n",
        "    \n",
        "    fps = int(cap.get(cv2.CAP_PROP_FPS))\n",
        "    k=int(fps/frames_to_take_per_sec)\n",
        "    i=0\n",
        "    j=0\n",
        "    try:\n",
        "      while j<max_frames:\n",
        "        ret, frame = cap.read()\n",
        "        if not ret:\n",
        "          break\n",
        "        if i%k==0:\n",
        "          j+=1\n",
        "          frame= crop_center(frame)\n",
        "          frame = cv2.cvtColor(frame, cv2.COLOR_BGR2GRAY)\n",
        "          frames.append(frame)\n",
        "        i+=1\n",
        "    finally:\n",
        "      cap.release()\n",
        "      return np.array(frames[:max_frames])\n",
        "\n",
        "\n",
        "\n",
        "\n",
        "\n",
        "\n",
        "label_processor = keras.layers.StringLookup(\n",
        "    num_oov_indices=0, vocabulary=np.unique(train_df[\"tag\"]), mask_token=None\n",
        ")\n",
        "print(label_processor.get_vocabulary())\n",
        "\n",
        "\n",
        "def prepare_all_videos(df, root_dir):\n",
        "    num_samples = len(df)\n",
        "    video_paths = df[\"video_name\"].values.tolist()\n",
        "    labels = df[\"tag\"].values\n",
        "    labels = label_processor(labels).numpy()\n",
        "\n",
        "    videos = np.zeros(\n",
        "        shape=(num_samples, MAX_SEQ_LENGTH, IMG_SIZE,IMG_SIZE), dtype=\"float32\"\n",
        "    )\n",
        "\n",
        "    # For each video.\n",
        "    for idx, path in enumerate(video_paths):\n",
        "        # Gather all its frames and add a batch dimension.\n",
        "        frames = load_video(os.path.join(root_dir, path),MAX_SEQ_LENGTH)\n",
        "\n",
        "        # Pad shorter videos.\n",
        "        if len(frames) < MAX_SEQ_LENGTH:\n",
        "            diff = MAX_SEQ_LENGTH - len(frames)\n",
        "            padding = np.empty((diff, IMG_SIZE, IMG_SIZE), dtype=\"float32\")\n",
        "            for d in range(diff):\n",
        "              padding[d:]=frames[-1:]\n",
        "            frames = np.concatenate((frames, padding))\n",
        "\n",
        "        videos[idx,] = frames\n",
        "\n",
        "    return videos, labels\n",
        "\n"
      ]
    },
    {
      "cell_type": "code",
      "execution_count": null,
      "metadata": {
        "id": "zQw9ZcZgi2PB"
      },
      "outputs": [],
      "source": [
        "\n",
        "#np.load(\"train_data.npy\"), np.load(\"train_labels.npy\")\n",
        "train_videos, train_labels = prepare_all_videos(train_df,\"/content/train\")"
      ]
    },
    {
      "cell_type": "code",
      "execution_count": null,
      "metadata": {
        "id": "91SWIXvcn-pk"
      },
      "outputs": [],
      "source": [
        "#np.load(\"test_data.npy\"), np.load(\"test_labels.npy\")\n",
        "test_videos, test_labels = prepare_all_videos(test_df,\"/content/test\") "
      ]
    },
    {
      "cell_type": "code",
      "execution_count": null,
      "metadata": {
        "id": "Hg81O8zIn-aN"
      },
      "outputs": [],
      "source": [
        "valid_videos, valid_labels = prepare_all_videos(valid_df,\"/content/valid\") "
      ]
    },
    {
      "cell_type": "code",
      "execution_count": null,
      "metadata": {
        "id": "u5ifV7Fe9ud7"
      },
      "outputs": [],
      "source": [
        "import os\n",
        "import io\n",
        "import imageio\n",
        "import ipywidgets\n",
        "import numpy as np\n",
        "import tensorflow as tf\n",
        "from tensorflow import keras\n",
        "from tensorflow.keras import layers"
      ]
    },
    {
      "cell_type": "code",
      "execution_count": null,
      "metadata": {
        "id": "w-x4FZg89ud_"
      },
      "outputs": [],
      "source": [
        "BATCH_SIZE = 32\n",
        "AUTO = tf.data.AUTOTUNE\n",
        "INPUT_SHAPE = (MAX_SEQ_LENGTH, IMG_SIZE, IMG_SIZE, 1)\n",
        "NUM_CLASSES = 1\n",
        "\n",
        "# OPTIMIZER\n",
        "LEARNING_RATE = 1e-4\n",
        "\n",
        "# TRAINING\n",
        "EPOCHS = 40\n",
        "\n",
        "# TUBELET EMBEDDING\n",
        "PATCH_SIZE = (8, 8, 8)\n",
        "NUM_PATCHES = (INPUT_SHAPE[0] // PATCH_SIZE[0]) ** 2\n",
        "\n",
        "# ViViT ARCHITECTURE\n",
        "LAYER_NORM_EPS = 1e-6\n",
        "PROJECTION_DIM = 128\n",
        "NUM_HEADS = 8\n",
        "NUM_LAYERS = 8"
      ]
    },
    {
      "cell_type": "code",
      "execution_count": null,
      "metadata": {
        "id": "cY784Hh59ueC"
      },
      "outputs": [],
      "source": []
    },
    {
      "cell_type": "code",
      "execution_count": null,
      "metadata": {
        "id": "cAlf8PPh9ueF"
      },
      "outputs": [],
      "source": [
        "\n",
        "@tf.function\n",
        "def preprocess(frames: tf.Tensor, label: tf.Tensor):\n",
        "    \"\"\"Preprocess the frames tensors and parse the labels.\"\"\"\n",
        "    # Preprocess images\n",
        "    frames = tf.image.convert_image_dtype(\n",
        "        frames[\n",
        "            ..., tf.newaxis\n",
        "        ],  # The new axis is to help for further processing with Conv3D layers\n",
        "        tf.float32,\n",
        "    )\n",
        "    # Parse label\n",
        "    label = tf.cast(label, tf.float32)\n",
        "    return frames, label\n",
        "\n",
        "\n",
        "def prepare_dataloader(\n",
        "    videos: np.ndarray,\n",
        "    labels: np.ndarray,\n",
        "    loader_type: str = \"train\",\n",
        "    batch_size: int = BATCH_SIZE,\n",
        "):\n",
        "    \"\"\"Utility function to prepare the dataloader.\"\"\"\n",
        "    dataset = tf.data.Dataset.from_tensor_slices((videos, labels))\n",
        "\n",
        "    if loader_type == \"train\":\n",
        "        dataset = dataset.shuffle(BATCH_SIZE * 2)\n",
        "\n",
        "    dataloader = (\n",
        "        dataset.map(preprocess, num_parallel_calls=tf.data.AUTOTUNE)\n",
        "        .batch(batch_size)\n",
        "        .prefetch(tf.data.AUTOTUNE)\n",
        "    )\n",
        "    return dataloader\n",
        "\n",
        "\n",
        "trainloader = prepare_dataloader(train_videos, train_labels, \"train\")\n",
        "train_videos=[] \n",
        "train_labels=[]\n",
        "\n",
        "validloader = prepare_dataloader(valid_videos, valid_labels, \"valid\")\n",
        "valid_videos=[] \n",
        "valid_labels=[]\n",
        "\n",
        "testloader = prepare_dataloader(test_videos, test_labels, \"test\")\n",
        "test_videos=[] \n",
        "test_labels=[]\n"
      ]
    },
    {
      "cell_type": "code",
      "execution_count": null,
      "metadata": {
        "id": "BDiUXuzxjkMt",
        "colab": {
          "base_uri": "https://localhost:8080/"
        },
        "outputId": "793c190f-ea16-48b7-b25a-abdb378b25b2"
      },
      "outputs": [
        {
          "output_type": "stream",
          "name": "stdout",
          "text": [
            "<PrefetchDataset element_spec=(TensorSpec(shape=(None, 30, 90, 90, 1), dtype=tf.float32, name=None), TensorSpec(shape=(None,), dtype=tf.float32, name=None))>\n"
          ]
        }
      ],
      "source": [
        "print(trainloader)"
      ]
    },
    {
      "cell_type": "code",
      "execution_count": null,
      "metadata": {
        "id": "C0IoZqZDiMqI"
      },
      "outputs": [],
      "source": [
        "#!unzip /content/model_72.zip -d /content/model_72"
      ]
    },
    {
      "cell_type": "code",
      "execution_count": null,
      "metadata": {
        "id": "F2VeBuE09ueI"
      },
      "outputs": [],
      "source": [
        "\n",
        "class TubeletEmbedding(layers.Layer):\n",
        "    def __init__(self, embed_dim, patch_size, **kwargs):\n",
        "        super().__init__(**kwargs)\n",
        "        self.projection = layers.Conv3D(\n",
        "            filters=embed_dim,\n",
        "            kernel_size=patch_size,\n",
        "            strides=patch_size,\n",
        "            padding=\"VALID\",\n",
        "        )\n",
        "        self.flatten = layers.Reshape(target_shape=(-1, embed_dim))\n",
        "\n",
        "    def call(self, videos):\n",
        "        projected_patches = self.projection(videos)\n",
        "        flattened_patches = self.flatten(projected_patches)\n",
        "        return flattened_patches\n"
      ]
    },
    {
      "cell_type": "code",
      "execution_count": null,
      "metadata": {
        "id": "jZeua8il9ueK"
      },
      "outputs": [],
      "source": [
        "\n",
        "class PositionalEncoder(layers.Layer):\n",
        "    def __init__(self, embed_dim, **kwargs):\n",
        "        super().__init__(**kwargs)\n",
        "        self.embed_dim = embed_dim\n",
        "\n",
        "    def build(self, input_shape):\n",
        "        _, num_tokens, _ = input_shape\n",
        "        self.position_embedding = layers.Embedding(\n",
        "            input_dim=num_tokens, output_dim=self.embed_dim\n",
        "        )\n",
        "        self.positions = tf.range(start=0, limit=num_tokens, delta=1)\n",
        "\n",
        "    def call(self, encoded_tokens):\n",
        "        # Encode the positions and add it to the encoded tokens\n",
        "        encoded_positions = self.position_embedding(self.positions)\n",
        "        encoded_tokens = encoded_tokens + encoded_positions\n",
        "        return encoded_tokens\n"
      ]
    },
    {
      "cell_type": "code",
      "execution_count": null,
      "metadata": {
        "id": "tEbCWo0i9ueM"
      },
      "outputs": [],
      "source": [
        "\n",
        "def create_vivit_classifier(\n",
        "    tubelet_embedder,\n",
        "    positional_encoder,\n",
        "    input_shape=INPUT_SHAPE,\n",
        "    transformer_layers=NUM_LAYERS,\n",
        "    num_heads=NUM_HEADS,\n",
        "    embed_dim=PROJECTION_DIM,\n",
        "    layer_norm_eps=LAYER_NORM_EPS,\n",
        "    num_classes=NUM_CLASSES,\n",
        "):\n",
        "    # Get the input layer\n",
        "    inputs = layers.Input(shape=input_shape)\n",
        "    # Create patches.\n",
        "    patches = tubelet_embedder(inputs)\n",
        "    # Encode patches.\n",
        "    encoded_patches = positional_encoder(patches)\n",
        "\n",
        "    # Create multiple layers of the Transformer block.\n",
        "    for _ in range(transformer_layers):\n",
        "        # Layer normalization and MHSA\n",
        "        x1 = layers.LayerNormalization(epsilon=1e-6)(encoded_patches)\n",
        "        attention_output = layers.MultiHeadAttention(\n",
        "            num_heads=num_heads, key_dim=embed_dim // num_heads, dropout=0.1\n",
        "        )(x1, x1)\n",
        "\n",
        "        # Skip connection\n",
        "        x2 = layers.Add()([attention_output, encoded_patches])\n",
        "\n",
        "        # Layer Normalization and MLP\n",
        "        x3 = layers.LayerNormalization(epsilon=1e-6)(x2)\n",
        "        x3 = keras.Sequential(\n",
        "            [\n",
        "                layers.Dense(units=embed_dim * 4, activation=tf.nn.relu),\n",
        "                layers.Dense(units=embed_dim, activation=tf.nn.relu),\n",
        "            ]\n",
        "        )(x3)\n",
        "\n",
        "        # Skip connection\n",
        "        encoded_patches = layers.Add()([x3, x2])\n",
        "\n",
        "    # Layer normalization and Global average pooling.\n",
        "    representation = layers.LayerNormalization(epsilon=layer_norm_eps)(encoded_patches)\n",
        "    representation = layers.GlobalAvgPool1D()(representation)\n",
        "\n",
        "    # Classify outputs.\n",
        "    outputs = layers.Dense(units=num_classes, activation=\"sigmoid\")(representation)\n",
        "\n",
        "    # Create the Keras model.\n",
        "    model = keras.Model(inputs=inputs, outputs=outputs)\n",
        "    return model\n"
      ]
    },
    {
      "cell_type": "code",
      "execution_count": null,
      "metadata": {
        "id": "c88mD7rk9ueN",
        "colab": {
          "base_uri": "https://localhost:8080/"
        },
        "outputId": "b3070cc5-328a-486e-9c2b-4c6357ed19b9"
      },
      "outputs": [
        {
          "output_type": "stream",
          "name": "stdout",
          "text": [
            "Epoch 1/40\n",
            "50/50 [==============================] - 30s 303ms/step - loss: 0.8171 - accuracy: 0.4888 - val_loss: 0.6852 - val_accuracy: 0.5400\n",
            "Epoch 2/40\n",
            "50/50 [==============================] - 14s 283ms/step - loss: 0.7081 - accuracy: 0.4869 - val_loss: 0.6863 - val_accuracy: 0.5050\n",
            "Epoch 3/40\n",
            "50/50 [==============================] - 14s 282ms/step - loss: 0.7021 - accuracy: 0.4825 - val_loss: 0.6967 - val_accuracy: 0.5000\n",
            "Epoch 4/40\n",
            "50/50 [==============================] - 14s 283ms/step - loss: 0.7016 - accuracy: 0.5169 - val_loss: 0.6776 - val_accuracy: 0.5150\n",
            "Epoch 5/40\n",
            "50/50 [==============================] - 14s 284ms/step - loss: 0.6908 - accuracy: 0.5113 - val_loss: 0.6756 - val_accuracy: 0.5450\n",
            "Epoch 6/40\n",
            "50/50 [==============================] - 14s 285ms/step - loss: 0.6841 - accuracy: 0.5419 - val_loss: 0.6750 - val_accuracy: 0.6100\n",
            "Epoch 7/40\n",
            "50/50 [==============================] - 14s 288ms/step - loss: 0.6928 - accuracy: 0.5125 - val_loss: 0.6870 - val_accuracy: 0.5250\n",
            "Epoch 8/40\n",
            "50/50 [==============================] - 14s 286ms/step - loss: 0.6847 - accuracy: 0.5300 - val_loss: 0.6849 - val_accuracy: 0.5300\n",
            "Epoch 9/40\n",
            "50/50 [==============================] - 14s 285ms/step - loss: 0.6789 - accuracy: 0.5506 - val_loss: 0.6748 - val_accuracy: 0.5750\n",
            "Epoch 10/40\n",
            "50/50 [==============================] - 14s 286ms/step - loss: 0.6722 - accuracy: 0.5600 - val_loss: 0.6737 - val_accuracy: 0.5650\n",
            "Epoch 11/40\n",
            "50/50 [==============================] - 14s 286ms/step - loss: 0.6493 - accuracy: 0.6019 - val_loss: 0.6476 - val_accuracy: 0.6000\n",
            "Epoch 12/40\n",
            "50/50 [==============================] - 14s 288ms/step - loss: 0.6078 - accuracy: 0.6619 - val_loss: 0.5797 - val_accuracy: 0.6800\n",
            "Epoch 13/40\n",
            "50/50 [==============================] - 14s 287ms/step - loss: 0.5708 - accuracy: 0.6938 - val_loss: 0.5870 - val_accuracy: 0.6650\n",
            "Epoch 14/40\n",
            "50/50 [==============================] - 14s 288ms/step - loss: 0.4553 - accuracy: 0.7812 - val_loss: 0.4250 - val_accuracy: 0.8000\n",
            "Epoch 15/40\n",
            "50/50 [==============================] - 15s 289ms/step - loss: 0.4322 - accuracy: 0.8087 - val_loss: 0.4186 - val_accuracy: 0.8050\n",
            "Epoch 16/40\n",
            "50/50 [==============================] - 14s 288ms/step - loss: 0.3858 - accuracy: 0.8319 - val_loss: 0.3704 - val_accuracy: 0.8450\n",
            "Epoch 17/40\n",
            "50/50 [==============================] - 14s 288ms/step - loss: 0.3696 - accuracy: 0.8413 - val_loss: 0.3996 - val_accuracy: 0.8200\n",
            "Epoch 18/40\n",
            "50/50 [==============================] - 14s 289ms/step - loss: 0.3589 - accuracy: 0.8400 - val_loss: 0.3678 - val_accuracy: 0.8500\n",
            "Epoch 19/40\n",
            "50/50 [==============================] - 14s 289ms/step - loss: 0.3583 - accuracy: 0.8462 - val_loss: 0.3730 - val_accuracy: 0.8500\n",
            "Epoch 20/40\n",
            "50/50 [==============================] - 14s 289ms/step - loss: 0.3343 - accuracy: 0.8531 - val_loss: 0.3851 - val_accuracy: 0.8250\n",
            "Epoch 21/40\n",
            "50/50 [==============================] - 14s 288ms/step - loss: 0.3385 - accuracy: 0.8506 - val_loss: 0.4334 - val_accuracy: 0.7650\n",
            "Epoch 22/40\n",
            "50/50 [==============================] - 14s 288ms/step - loss: 0.3177 - accuracy: 0.8644 - val_loss: 0.3800 - val_accuracy: 0.8400\n",
            "Epoch 23/40\n",
            "50/50 [==============================] - 15s 291ms/step - loss: 0.2977 - accuracy: 0.8763 - val_loss: 0.3904 - val_accuracy: 0.8400\n",
            "Epoch 24/40\n",
            "50/50 [==============================] - 14s 290ms/step - loss: 0.2951 - accuracy: 0.8681 - val_loss: 0.4236 - val_accuracy: 0.8250\n",
            "Epoch 25/40\n",
            "50/50 [==============================] - 14s 289ms/step - loss: 0.2934 - accuracy: 0.8706 - val_loss: 0.4084 - val_accuracy: 0.8250\n",
            "Epoch 26/40\n",
            "50/50 [==============================] - 15s 290ms/step - loss: 0.2811 - accuracy: 0.8781 - val_loss: 0.4369 - val_accuracy: 0.8250\n",
            "Epoch 27/40\n",
            "50/50 [==============================] - 14s 289ms/step - loss: 0.2569 - accuracy: 0.8956 - val_loss: 0.4488 - val_accuracy: 0.8200\n",
            "Epoch 28/40\n",
            "50/50 [==============================] - 15s 290ms/step - loss: 0.2421 - accuracy: 0.8925 - val_loss: 0.4571 - val_accuracy: 0.8050\n",
            "Epoch 29/40\n",
            "50/50 [==============================] - 15s 289ms/step - loss: 0.2401 - accuracy: 0.9000 - val_loss: 0.4410 - val_accuracy: 0.8200\n",
            "Epoch 30/40\n",
            "50/50 [==============================] - 15s 289ms/step - loss: 0.2218 - accuracy: 0.9125 - val_loss: 0.4996 - val_accuracy: 0.8100\n",
            "Epoch 31/40\n",
            "50/50 [==============================] - 15s 292ms/step - loss: 0.2015 - accuracy: 0.9206 - val_loss: 0.5088 - val_accuracy: 0.7950\n",
            "Epoch 32/40\n",
            "50/50 [==============================] - 15s 294ms/step - loss: 0.3256 - accuracy: 0.8550 - val_loss: 0.4628 - val_accuracy: 0.7800\n",
            "Epoch 33/40\n",
            "50/50 [==============================] - 15s 295ms/step - loss: 0.2433 - accuracy: 0.9062 - val_loss: 0.4578 - val_accuracy: 0.8150\n",
            "Epoch 34/40\n",
            "50/50 [==============================] - 15s 291ms/step - loss: 0.1917 - accuracy: 0.9262 - val_loss: 0.4881 - val_accuracy: 0.7950\n",
            "Epoch 35/40\n",
            "50/50 [==============================] - 15s 290ms/step - loss: 0.1675 - accuracy: 0.9406 - val_loss: 0.5503 - val_accuracy: 0.7900\n",
            "Epoch 36/40\n",
            "50/50 [==============================] - 15s 290ms/step - loss: 0.2138 - accuracy: 0.9144 - val_loss: 0.4080 - val_accuracy: 0.8200\n",
            "Epoch 37/40\n",
            "50/50 [==============================] - 15s 291ms/step - loss: 0.2124 - accuracy: 0.9175 - val_loss: 0.5055 - val_accuracy: 0.7950\n",
            "Epoch 38/40\n",
            "50/50 [==============================] - 15s 292ms/step - loss: 0.1699 - accuracy: 0.9362 - val_loss: 0.5207 - val_accuracy: 0.8000\n",
            "Epoch 39/40\n",
            "50/50 [==============================] - 15s 290ms/step - loss: 0.2360 - accuracy: 0.9087 - val_loss: 0.5326 - val_accuracy: 0.7750\n",
            "Epoch 40/40\n",
            "50/50 [==============================] - 15s 290ms/step - loss: 0.1415 - accuracy: 0.9538 - val_loss: 0.5818 - val_accuracy: 0.7850\n",
            "7/7 [==============================] - 1s 84ms/step - loss: 0.4106 - accuracy: 0.8700\n",
            "Test accuracy: 87.0%\n"
          ]
        }
      ],
      "source": [
        "\n",
        "def run_experiment():\n",
        "    # Initialize model\n",
        "    model = create_vivit_classifier(\n",
        "        tubelet_embedder=TubeletEmbedding(\n",
        "            embed_dim=PROJECTION_DIM, patch_size=PATCH_SIZE\n",
        "        ),\n",
        "        positional_encoder=PositionalEncoder(embed_dim=PROJECTION_DIM),\n",
        "    )\n",
        "\n",
        "    # Compile the model with the optimizer, loss function\n",
        "    # and the metrics.\n",
        "    optimizer = keras.optimizers.Adam(learning_rate=LEARNING_RATE)\n",
        "    model.compile(\n",
        "        optimizer=optimizer,\n",
        "        loss=\"binary_crossentropy\",\n",
        "        metrics=[\n",
        "            keras.metrics.BinaryAccuracy(name=\"accuracy\"),\n",
        "        ],\n",
        "    )\n",
        "\n",
        "    # Train the model.\n",
        "    _ = model.fit(trainloader, epochs=EPOCHS, validation_data=validloader)\n",
        "\n",
        "    _, accuracy = model.evaluate(testloader)\n",
        "    print(f\"Test accuracy: {round(accuracy * 100, 2)}%\")\n",
        "\n",
        "    return model\n",
        "\n",
        "\n",
        "model = run_experiment()"
      ]
    },
    {
      "cell_type": "code",
      "execution_count": null,
      "metadata": {
        "id": "86UyIqMEddB7"
      },
      "outputs": [],
      "source": [
        "!mkdir -p saved_model"
      ]
    },
    {
      "cell_type": "code",
      "execution_count": null,
      "metadata": {
        "id": "GZzxBqKddfGx",
        "colab": {
          "base_uri": "https://localhost:8080/"
        },
        "outputId": "09e3d5db-9682-4d2d-c01c-cad1d32aa093"
      },
      "outputs": [
        {
          "output_type": "stream",
          "name": "stderr",
          "text": [
            "WARNING:absl:Found untraced functions such as conv3d_layer_call_fn, conv3d_layer_call_and_return_conditional_losses, _jit_compiled_convolution_op, reshape_layer_call_fn, reshape_layer_call_and_return_conditional_losses while saving (showing 5 of 103). These functions will not be directly callable after loading.\n"
          ]
        }
      ],
      "source": [
        "model.save('model_87') "
      ]
    },
    {
      "cell_type": "code",
      "execution_count": null,
      "metadata": {
        "id": "359IIzN-gCf_",
        "colab": {
          "base_uri": "https://localhost:8080/"
        },
        "outputId": "84328299-2d54-4acb-cf3e-bf5b4336fb90"
      },
      "outputs": [
        {
          "output_type": "stream",
          "name": "stdout",
          "text": [
            "  adding: content/model_87/ (stored 0%)\n",
            "  adding: content/model_87/keras_metadata.pb (deflated 95%)\n",
            "  adding: content/model_87/variables/ (stored 0%)\n",
            "  adding: content/model_87/variables/variables.data-00000-of-00001 (deflated 8%)\n",
            "  adding: content/model_87/variables/variables.index (deflated 80%)\n",
            "  adding: content/model_87/assets/ (stored 0%)\n",
            "  adding: content/model_87/saved_model.pb (deflated 91%)\n"
          ]
        }
      ],
      "source": [
        "!zip -r /content/model_87.zip /content/model_87"
      ]
    },
    {
      "cell_type": "code",
      "execution_count": null,
      "metadata": {
        "id": "bc7tYLuYdy0G"
      },
      "outputs": [],
      "source": [
        "#model2=tf.keras.models.load_model('/content/drive/MyDrive/Capstone Resources/Phase 2/Code/final_model/model_92/content/saved_model/model_92')\n",
        "#_, accuracy = model2.evaluate(testloader)\n",
        "#print(f\"Test accuracy: {round(accuracy * 100, 2)}%\")"
      ]
    },
    {
      "cell_type": "code",
      "execution_count": null,
      "metadata": {
        "id": "fpaT7HsTHXLp"
      },
      "outputs": [],
      "source": [
        "\n",
        "def prepare_single_video(frames):\n",
        "    if len(frames) < MAX_SEQ_LENGTH:\n",
        "            diff = MAX_SEQ_LENGTH - len(frames)\n",
        "            padding = np.empty((diff, IMG_SIZE, IMG_SIZE), dtype=\"float32\")\n",
        "            for d in range(diff):\n",
        "              padding[d:]=frames[-1:]\n",
        "            frames = np.concatenate((frames, padding))\n",
        "\n",
        "\n",
        "    return frames\n",
        "\n",
        "\n",
        "def predict_action(path):\n",
        "    class_vocab = label_processor.get_vocabulary()\n",
        "    frames = load_video(path,MAX_SEQ_LENGTH)\n",
        "    video = prepare_single_video(frames)\n",
        "    pred = model.predict(tf.expand_dims(video, axis=0))[0]\n",
        "    if pred>0.5:\n",
        "      return class_vocab[1]\n",
        "    else:\n",
        "      return class_vocab[0]\n",
        "\n",
        "\n"
      ]
    },
    {
      "cell_type": "code",
      "execution_count": null,
      "metadata": {
        "id": "NVUzWHA6GB9d",
        "colab": {
          "base_uri": "https://localhost:8080/"
        },
        "outputId": "cb2f83d5-0d69-413f-ad39-21141efc6b34"
      },
      "outputs": [
        {
          "output_type": "stream",
          "name": "stdout",
          "text": [
            "1/1 [==============================] - 1s 879ms/step\n",
            "1/1 [==============================] - 0s 32ms/step\n",
            "1/1 [==============================] - 0s 28ms/step\n",
            "1/1 [==============================] - 0s 29ms/step\n",
            "1/1 [==============================] - 0s 32ms/step\n",
            "1/1 [==============================] - 0s 33ms/step\n",
            "1/1 [==============================] - 0s 31ms/step\n",
            "1/1 [==============================] - 0s 32ms/step\n",
            "1/1 [==============================] - 0s 29ms/step\n",
            "1/1 [==============================] - 0s 28ms/step\n",
            "1/1 [==============================] - 0s 28ms/step\n",
            "1/1 [==============================] - 0s 33ms/step\n",
            "1/1 [==============================] - 0s 28ms/step\n",
            "1/1 [==============================] - 0s 32ms/step\n",
            "1/1 [==============================] - 0s 30ms/step\n",
            "1/1 [==============================] - 0s 29ms/step\n",
            "1/1 [==============================] - 0s 31ms/step\n",
            "1/1 [==============================] - 0s 29ms/step\n",
            "1/1 [==============================] - 0s 31ms/step\n",
            "1/1 [==============================] - 0s 28ms/step\n",
            "1/1 [==============================] - 0s 29ms/step\n",
            "1/1 [==============================] - 0s 29ms/step\n",
            "1/1 [==============================] - 0s 29ms/step\n",
            "1/1 [==============================] - 0s 31ms/step\n",
            "1/1 [==============================] - 0s 29ms/step\n",
            "1/1 [==============================] - 0s 28ms/step\n",
            "1/1 [==============================] - 0s 27ms/step\n",
            "1/1 [==============================] - 0s 30ms/step\n",
            "1/1 [==============================] - 0s 31ms/step\n",
            "1/1 [==============================] - 0s 29ms/step\n",
            "1/1 [==============================] - 0s 34ms/step\n",
            "1/1 [==============================] - 0s 28ms/step\n",
            "1/1 [==============================] - 0s 28ms/step\n",
            "1/1 [==============================] - 0s 28ms/step\n",
            "1/1 [==============================] - 0s 32ms/step\n",
            "1/1 [==============================] - 0s 27ms/step\n",
            "1/1 [==============================] - 0s 27ms/step\n",
            "1/1 [==============================] - 0s 27ms/step\n",
            "1/1 [==============================] - 0s 28ms/step\n",
            "1/1 [==============================] - 0s 28ms/step\n",
            "1/1 [==============================] - 0s 34ms/step\n",
            "Accuracy on videos with occlusions 95.12 %\n"
          ]
        }
      ],
      "source": [
        "v=0\n",
        "for vid in os.listdir(\"/content/drive/MyDrive/Capstone Resources/data/vidsWithObstructions\"):\n",
        "  if predict_action(\"/content/drive/MyDrive/Capstone Resources/data/vidsWithObstructions/\"+vid)==\"Violent\":\n",
        "    v+=1\n",
        "print(\"Accuracy on videos with occlusions\",round(v*100/len(os.listdir(\"/content/drive/MyDrive/Capstone Resources/data/vidsWithObstructions\")),2),\"%\")"
      ]
    },
    {
      "cell_type": "code",
      "execution_count": null,
      "metadata": {
        "id": "eUtZMTshLIIm"
      },
      "outputs": [],
      "source": [
        "v=0\n",
        "for vid in os.listdir(\"/content/drive/MyDrive/Capstone Resources/Phase 1/Videos/Clips/\"):\n",
        "  if predict_action(\"/content/drive/MyDrive/Capstone Resources/Phase 1/Videos/Clips/\"+vid)==\"Violent\":\n",
        "    v+=1\n",
        "print(\"Accuracy on videos with clips\",round(v*100/len(os.listdir(\"/content/drive/MyDrive/Capstone Resources/Phase 1/Videos/Clips/\")),2),\"%\")\n",
        "\n"
      ]
    },
    {
      "cell_type": "code",
      "execution_count": null,
      "metadata": {
        "id": "pb8g6dliiCFS"
      },
      "outputs": [],
      "source": [
        "#!unzip '/content/drive/MyDrive/Capstone Resources/Phase 2/Code/final_model/model_92.zip' -d /content/model_92"
      ]
    },
    {
      "cell_type": "code",
      "execution_count": null,
      "metadata": {
        "id": "ysBUL5TBLL6q"
      },
      "outputs": [],
      "source": [
        "#model2=tf.keras.models.load_model('/content/model_92/content/saved_model/model_92')"
      ]
    },
    {
      "cell_type": "code",
      "source": [],
      "metadata": {
        "id": "nufv965qzDFk"
      },
      "execution_count": null,
      "outputs": []
    }
  ],
  "metadata": {
    "accelerator": "GPU",
    "colab": {
      "provenance": []
    },
    "gpuClass": "standard",
    "kernelspec": {
      "display_name": "Python 3",
      "language": "python",
      "name": "python3"
    },
    "language_info": {
      "codemirror_mode": {
        "name": "ipython",
        "version": 3
      },
      "file_extension": ".py",
      "mimetype": "text/x-python",
      "name": "python",
      "nbconvert_exporter": "python",
      "pygments_lexer": "ipython3",
      "version": "3.7.0"
    }
  },
  "nbformat": 4,
  "nbformat_minor": 0
}